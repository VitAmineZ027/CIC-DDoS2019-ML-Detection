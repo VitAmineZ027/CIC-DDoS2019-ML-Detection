{
  "nbformat": 4,
  "nbformat_minor": 0,
  "metadata": {
    "colab": {
      "provenance": [],
      "authorship_tag": "ABX9TyOb1hdVQWkLMGJniH6lX+3x",
      "include_colab_link": true
    },
    "kernelspec": {
      "name": "python3",
      "display_name": "Python 3"
    },
    "language_info": {
      "name": "python"
    }
  },
  "cells": [
    {
      "cell_type": "markdown",
      "metadata": {
        "id": "view-in-github",
        "colab_type": "text"
      },
      "source": [
        "<a href=\"https://colab.research.google.com/github/VitAmineZ027/CIC-DDoS2019-ML-Detection/blob/main/Ai_Driver_DDoS_Attacks_Detection_%26_Prevention_by_AmInEz.ipynb\" target=\"_parent\"><img src=\"https://colab.research.google.com/assets/colab-badge.svg\" alt=\"Open In Colab\"/></a>"
      ]
    },
    {
      "cell_type": "code",
      "execution_count": null,
      "metadata": {
        "id": "WG2wnQD2aBUw"
      },
      "outputs": [],
      "source": [
        "import pandas as pd\n",
        "import numpy as np\n",
        "\n",
        "import matplotlib.pyplot as plt\n",
        "import seaborn as sns\n",
        "import csv\n",
        "\n",
        "import matplotlib.cm as cm\n",
        "\n",
        "from sklearn.model_selection import train_test_split\n",
        "from sklearn.preprocessing import StandardScaler\n",
        "\n",
        "\n",
        "#Machine learning\n",
        "from sklearn.ensemble import RandomForestClassifier\n",
        "from sklearn.linear_model import LogisticRegression\n",
        "#apprentissage supervisé, repose sur les SVM Support vector Machines (cherche a trouver un hyperplan qui sépare les classes, resiste au sur apprentissage)\n",
        "#########from sklearn.svm import SV\n",
        "#classificateur basé sur un réseau de neurones artificiel (ANN)\n",
        "from sklearn.neural_network import MLPClassifier\n",
        "\n",
        "# Evaluation des modéles\n",
        "from sklearn.metrics import roc_curve, auc\n",
        "#Préparer les données pour l’évaluation des modèles, notamment pour calculer l’AUC-ROC\n",
        "from sklearn.preprocessing import label_binarize\n",
        "from itertools import cycle\n",
        "import joblib\n",
        "# Model Metrics\n",
        "from sklearn.metrics import confusion_matrix, accuracy_score\n",
        "from sklearn.metrics import confusion_matrix, accuracy_score, f1_score, precision_score, recall_score\n"
      ]
    },
    {
      "cell_type": "markdown",
      "source": [
        "Import des données\n"
      ],
      "metadata": {
        "id": "rzq273UXxNnf"
      }
    },
    {
      "cell_type": "code",
      "source": [
        "df1 = pd.read_csv(\"CIC-IDS-2019/CSV-03-11/Portmap.csv\",low_memory=False).sample(frac=0.05, random_state=42)\n",
        "df2 = pd.read_csv(\"CIC-IDS-2019/CSV-03-11/UDPLag.csv\",low_memory=False).sample(frac=0.05, random_state=42)\n",
        "df3 = pd.read_csv(\"CIC-IDS-2019/CSV-03-11/LDAP.csv\",low_memory=False).sample(frac=0.05, random_state=42)\n",
        "df4 = pd.read_csv(\"CIC-IDS-2019/CSV-03-11/NetBIOS.csv\",low_memory=False).sample(frac=0.005, random_state=42)\n",
        "df5 = pd.read_csv(\"CIC-IDS-2019/CSV-03-11/UDP.csv\",low_memory=False).sample(frac=0.005, random_state=42)\n",
        "df6 = pd.read_csv(\"CIC-IDS-2019/CSV-03-11/Syn.csv\",low_memory=False).sample(frac=0.005, random_state=42)\n",
        "df7 = pd.read_csv(\"CIC-IDS-2019/CSV-03-11/MSSQL.csv\",low_memory=False).sample(frac=0.005, random_state=42)\n",
        "\n",
        "\n",
        "#Benign Files\n",
        "df8 = pd.read_csv(\"/home/azouir/Bureau/AIML DDOS Project/CIC-IDS-2019/CSV-03-11/Benign/Benign_Traffic_ALL_DDoS.csv\")\n",
        "#remove 0.1\n",
        "df8=df8.drop('Unnamed: 0.1', axis=1)\n",
        "\n",
        "df=pd.concat([df1]+[df2]+[df3]+[df4]+[df5]+[df6]+[df7]+[df8], ignore_index=True)\n",
        "\n",
        "df = pd.read_csv(\"/home/azouir/Bureau/AIML DDOS Project/CIC-IDS-2019/CSV-03-11/Graphs2/Dataset_Balanced_BENIGN_FINAL.csv\",low_memory=False)\n"
      ],
      "metadata": {
        "id": "f7Q42s7SxV9n"
      },
      "execution_count": null,
      "outputs": []
    },
    {
      "cell_type": "markdown",
      "source": [
        "Informations sur le fichier"
      ],
      "metadata": {
        "id": "Rt2G3JaWxhDm"
      }
    },
    {
      "cell_type": "code",
      "source": [
        "print(df.head())\n",
        "print(df.shape)\n",
        "df.info()\n",
        "print(df.columns)"
      ],
      "metadata": {
        "id": "PvjbPK0Sxi42"
      },
      "execution_count": null,
      "outputs": []
    },
    {
      "cell_type": "markdown",
      "source": [
        "Data Cleaning"
      ],
      "metadata": {
        "id": "QMJBWUkJxoE_"
      }
    },
    {
      "cell_type": "code",
      "source": [
        "df.columns = df.columns.str.strip()\n",
        "\n",
        "df = df.drop_duplicates()\n",
        "# Valeurs non representatives\n",
        "df.drop(columns=['Unnamed: 0', 'Flow ID', 'Source IP', 'Source Port','Destination IP', 'Destination Port', 'Protocol', 'Timestamp','SimillarHTTP'], inplace=True)\n",
        "\n",
        "#df.drop(['SimillarHTTP','Unnamed: 0','Unnamed: 0.1'], axis=1, inplace=True)\n",
        "\n",
        "# remove negative values\n",
        "df = df[(df >= 0).all(axis=1)]\n",
        "\n",
        "#remove inf values\n",
        "df = df[~df.isin([np.inf, -np.inf]).any(axis=1)]\n",
        "\n"
      ],
      "metadata": {
        "id": "DkwxPXgfxqTO"
      },
      "execution_count": null,
      "outputs": []
    }
  ]
}